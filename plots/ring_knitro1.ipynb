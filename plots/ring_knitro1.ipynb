{
 "cells": [
  {
   "cell_type": "code",
   "execution_count": 1,
   "metadata": {
    "collapsed": true,
    "ExecuteTime": {
     "end_time": "2023-07-25T05:20:34.656473692Z",
     "start_time": "2023-07-25T05:20:34.146830150Z"
    }
   },
   "outputs": [],
   "source": [
    "import matplotlib.pyplot as plt\n",
    "import networkx as nx\n",
    "import numpy as np\n",
    "import os\n",
    "import yaml"
   ]
  },
  {
   "cell_type": "code",
   "execution_count": 2,
   "outputs": [],
   "source": [
    "data_dir = \"../analysis/results\""
   ],
   "metadata": {
    "collapsed": false,
    "ExecuteTime": {
     "end_time": "2023-07-25T05:20:34.663662890Z",
     "start_time": "2023-07-25T05:20:34.660345865Z"
    }
   }
  },
  {
   "cell_type": "code",
   "execution_count": 21,
   "outputs": [],
   "source": [
    "def plot(input_file):\n",
    "    with open(os.path.join(data_dir, input_file)) as fin:\n",
    "        data = yaml.load(fin, Loader=yaml.CLoader)\n",
    "    G = nx.DiGraph()\n",
    "    data_centers = range(5)\n",
    "    user_locations = range(5, 13)\n",
    "    forwarding_matrix = np.array(data[\"forwarding_probability_matrix\"])\n",
    "    forwarding_matrix = np.round(forwarding_matrix, decimals=2)\n",
    "\n",
    "    for data_center in data_centers:\n",
    "        G.add_node(data_center)\n",
    "    for user_loc in user_locations:\n",
    "        G.add_node(user_loc)\n",
    "    for (i, row) in enumerate(forwarding_matrix):\n",
    "        user_loc = 5 + i\n",
    "        for (data_center, p) in enumerate(row):\n",
    "            if p > 1e-3:\n",
    "                G.add_edge(user_loc, data_center, weight=p)\n",
    "\n",
    "    pos = {0: np.array([0, 0])}\n",
    "    for i in range(1, 5):\n",
    "        pos[i] = np.array([0.7 * np.cos(2 * np.pi * (i - 1) / 4), 0.7 * np.sin(2 * np.pi * (i - 1) / 4)])\n",
    "    for i in range(5, 13):\n",
    "        pos[i] = np.array([np.cos(2 * np.pi * (i - 5) / 8), np.sin(2 * np.pi * (i - 5) / 8)])\n",
    "\n",
    "    capacity = { data_center: capacity for (data_center, capacity) in zip(data_centers, data[\"allocation_vector\"])}\n",
    "\n",
    "    plt.figure(figsize=(5, 5))\n",
    "    nx.draw_networkx_nodes(G, pos, nodelist=data_centers, node_color=\"red\", node_shape=\"s\", label=\"data center\")\n",
    "    nx.draw_networkx_nodes(G, pos, nodelist=user_locations, node_color=\"green\", label=\"user_location\")\n",
    "    nx.draw_networkx_labels(G, pos, labels=capacity)\n",
    "    for edge in G.edges(data='weight'):\n",
    "        nx.draw_networkx_edges(G, pos, edgelist=[edge], width=5 * edge[2])\n",
    "    edge_labels = {e: w for (e, w) in nx.get_edge_attributes(G, \"weight\").items() if w != 1}\n",
    "    nx.draw_networkx_edge_labels(G, pos, edge_labels, font_size=8)\n",
    "    plt.legend()\n",
    "    plt.savefig(f\"ring_edge_{os.path.splitext(input_file)[0]}.png\")\n"
   ],
   "metadata": {
    "collapsed": false,
    "ExecuteTime": {
     "end_time": "2023-07-25T05:30:40.237291077Z",
     "start_time": "2023-07-25T05:30:40.196582719Z"
    }
   }
  },
  {
   "cell_type": "code",
   "execution_count": null,
   "outputs": [
    {
     "name": "stderr",
     "output_type": "stream",
     "text": [
      "/tmp/ipykernel_11132/1705970132.py:33: DeprecationWarning: `alltrue` is deprecated as of NumPy 1.25.0, and will be removed in NumPy 2.0. Please use `all` instead.\n",
      "  nx.draw_networkx_edges(G, pos, edgelist=[edge], width=5 * edge[2])\n"
     ]
    }
   ],
   "source": [
    "for input_file in os.listdir(data_dir):\n",
    "    if os.path.splitext(input_file)[0].endswith(\"knitro1\"):\n",
    "        plot(input_file)"
   ],
   "metadata": {
    "collapsed": false,
    "is_executing": true,
    "ExecuteTime": {
     "start_time": "2023-07-25T05:31:09.454694941Z"
    }
   }
  },
  {
   "cell_type": "code",
   "execution_count": null,
   "outputs": [],
   "source": [],
   "metadata": {
    "collapsed": false
   }
  }
 ],
 "metadata": {
  "kernelspec": {
   "display_name": "Python 3",
   "language": "python",
   "name": "python3"
  },
  "language_info": {
   "codemirror_mode": {
    "name": "ipython",
    "version": 2
   },
   "file_extension": ".py",
   "mimetype": "text/x-python",
   "name": "python",
   "nbconvert_exporter": "python",
   "pygments_lexer": "ipython2",
   "version": "2.7.6"
  }
 },
 "nbformat": 4,
 "nbformat_minor": 0
}
