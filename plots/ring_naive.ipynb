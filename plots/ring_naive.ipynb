{
 "cells": [
  {
   "cell_type": "code",
   "execution_count": 1,
   "metadata": {
    "collapsed": true,
    "ExecuteTime": {
     "end_time": "2023-07-25T05:19:56.013766880Z",
     "start_time": "2023-07-25T05:19:55.536731863Z"
    }
   },
   "outputs": [],
   "source": [
    "import matplotlib.pyplot as plt\n",
    "import networkx as nx\n",
    "import numpy as np"
   ]
  },
  {
   "cell_type": "code",
   "execution_count": 2,
   "outputs": [],
   "source": [
    "data_centers = range(5)\n",
    "user_locations = range(5, 13)"
   ],
   "metadata": {
    "collapsed": false,
    "ExecuteTime": {
     "end_time": "2023-07-25T05:19:56.019913803Z",
     "start_time": "2023-07-25T05:19:56.018230590Z"
    }
   }
  },
  {
   "cell_type": "code",
   "execution_count": 3,
   "outputs": [],
   "source": [
    "forwarding_matrix = np.array([\n",
    "    [0.0, 0.999997, 1.08188e-6, 5.63304e-7, 1.08188e-6],\n",
    "    [0.0, 0.362978, 0.63702, 9.05456e-7, 9.98506e-7],\n",
    "    [0.0, 1.0513e-6, 0.999997, 1.0513e-6, 5.66606e-7],\n",
    "    [0.0, 9.05456e-7, 0.63702, 0.362978, 9.98506e-7],\n",
    "    [0.0, 5.63304e-7, 1.08188e-6, 0.999997, 1.08188e-6],\n",
    "    [0.0, 9.05456e-7, 9.98506e-7, 0.362978, 0.63702],\n",
    "    [0.0, 1.0513e-6, 5.66606e-7, 1.0513e-6, 0.999997],\n",
    "    [0.0, 0.362978, 9.98506e-7, 9.05456e-7, 0.63702]\n",
    "])"
   ],
   "metadata": {
    "collapsed": false,
    "ExecuteTime": {
     "end_time": "2023-07-25T05:19:56.026172315Z",
     "start_time": "2023-07-25T05:19:56.023684886Z"
    }
   }
  },
  {
   "cell_type": "code",
   "execution_count": 4,
   "outputs": [],
   "source": [
    "forwarding_matrix = np.round(forwarding_matrix, decimals=2)"
   ],
   "metadata": {
    "collapsed": false,
    "ExecuteTime": {
     "end_time": "2023-07-25T05:19:56.032790705Z",
     "start_time": "2023-07-25T05:19:56.029323981Z"
    }
   }
  },
  {
   "cell_type": "code",
   "execution_count": 5,
   "outputs": [
    {
     "data": {
      "text/plain": "array([[0.  , 1.  , 0.  , 0.  , 0.  ],\n       [0.  , 0.36, 0.64, 0.  , 0.  ],\n       [0.  , 0.  , 1.  , 0.  , 0.  ],\n       [0.  , 0.  , 0.64, 0.36, 0.  ],\n       [0.  , 0.  , 0.  , 1.  , 0.  ],\n       [0.  , 0.  , 0.  , 0.36, 0.64],\n       [0.  , 0.  , 0.  , 0.  , 1.  ],\n       [0.  , 0.36, 0.  , 0.  , 0.64]])"
     },
     "execution_count": 5,
     "metadata": {},
     "output_type": "execute_result"
    }
   ],
   "source": [
    "forwarding_matrix"
   ],
   "metadata": {
    "collapsed": false,
    "ExecuteTime": {
     "end_time": "2023-07-25T05:19:56.073985742Z",
     "start_time": "2023-07-25T05:19:56.073424134Z"
    }
   }
  },
  {
   "cell_type": "code",
   "execution_count": 6,
   "outputs": [],
   "source": [
    "G = nx.DiGraph()\n",
    "for data_center in data_centers:\n",
    "    G.add_node(data_center)\n",
    "for user_loc in user_locations:\n",
    "    G.add_node(user_loc)\n",
    "for (i, row) in enumerate(forwarding_matrix):\n",
    "    user_loc = 5 + i\n",
    "    for (data_center, p) in enumerate(row):\n",
    "        if p > 1e-3:\n",
    "            G.add_edge(user_loc, data_center, weight=p)"
   ],
   "metadata": {
    "collapsed": false,
    "ExecuteTime": {
     "end_time": "2023-07-25T05:19:56.074245491Z",
     "start_time": "2023-07-25T05:19:56.073823883Z"
    }
   }
  },
  {
   "cell_type": "code",
   "execution_count": 7,
   "outputs": [],
   "source": [
    "pos = {0: np.array([0, 0])}\n",
    "for i in range(1, 5):\n",
    "    pos[i] = np.array([0.7 * np.cos(2 * np.pi * (i - 1) / 4), 0.7 * np.sin(2 * np.pi * (i - 1) / 4)])\n",
    "for i in range(5, 13):\n",
    "    pos[i] = np.array([np.cos(2 * np.pi * (i - 5) / 8), np.sin(2 * np.pi * (i - 5) / 8)])"
   ],
   "metadata": {
    "collapsed": false,
    "ExecuteTime": {
     "end_time": "2023-07-25T05:19:56.074419800Z",
     "start_time": "2023-07-25T05:19:56.074160541Z"
    }
   }
  },
  {
   "cell_type": "code",
   "execution_count": 8,
   "outputs": [],
   "source": [
    "capacity = {\n",
    "    0: 0,\n",
    "    1: 4,\n",
    "    2: 5,\n",
    "    3: 4,\n",
    "    4: 5,\n",
    "}"
   ],
   "metadata": {
    "collapsed": false,
    "ExecuteTime": {
     "end_time": "2023-07-25T05:19:56.074613569Z",
     "start_time": "2023-07-25T05:19:56.074353650Z"
    }
   }
  },
  {
   "cell_type": "code",
   "execution_count": 10,
   "outputs": [
    {
     "name": "stderr",
     "output_type": "stream",
     "text": [
      "/tmp/ipykernel_11020/3457014675.py:6: DeprecationWarning: `alltrue` is deprecated as of NumPy 1.25.0, and will be removed in NumPy 2.0. Please use `all` instead.\n",
      "  nx.draw_networkx_edges(G, pos, edgelist=[edge], width=5 * edge[2])\n"
     ]
    },
    {
     "data": {
      "text/plain": "<Figure size 500x500 with 1 Axes>",
      "image/png": "[encoded data removed]"
     },
     "metadata": {},
     "output_type": "display_data"
    }
   ],
   "source": [
    "plt.figure(figsize=(5, 5))\n",
    "nx.draw_networkx_nodes(G, pos, nodelist=data_centers, node_color=\"red\", node_shape=\"s\", label=\"data center\")\n",
    "nx.draw_networkx_nodes(G, pos, nodelist=user_locations, node_color=\"green\", label=\"user_location\")\n",
    "nx.draw_networkx_labels(G, pos, labels=capacity)\n",
    "for edge in G.edges(data='weight'):\n",
    "    nx.draw_networkx_edges(G, pos, edgelist=[edge], width=5 * edge[2])\n",
    "edge_labels = {e: w for (e, w) in nx.get_edge_attributes(G, \"weight\").items() if w != 1}\n",
    "nx.draw_networkx_edge_labels(G, pos, edge_labels, font_size=8)\n",
    "plt.legend()\n",
    "plt.savefig(\"ring_edge_naive_18.png\")"
   ],
   "metadata": {
    "collapsed": false,
    "ExecuteTime": {
     "end_time": "2023-07-25T05:31:05.488999208Z",
     "start_time": "2023-07-25T05:31:04.925834504Z"
    }
   }
  },
  {
   "cell_type": "code",
   "execution_count": 9,
   "outputs": [],
   "source": [],
   "metadata": {
    "collapsed": false,
    "ExecuteTime": {
     "end_time": "2023-07-25T05:19:56.645238320Z",
     "start_time": "2023-07-25T05:19:56.641067509Z"
    }
   }
  }
 ],
 "metadata": {
  "kernelspec": {
   "display_name": "Python 3",
   "language": "python",
   "name": "python3"
  },
  "language_info": {
   "codemirror_mode": {
    "name": "ipython",
    "version": 2
   },
   "file_extension": ".py",
   "mimetype": "text/x-python",
   "name": "python",
   "nbconvert_exporter": "python",
   "pygments_lexer": "ipython2",
   "version": "2.7.6"
  }
 },
 "nbformat": 4,
 "nbformat_minor": 0
}
